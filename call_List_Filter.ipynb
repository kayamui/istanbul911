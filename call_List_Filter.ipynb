{
  "nbformat": 4,
  "nbformat_minor": 0,
  "metadata": {
    "colab": {
      "provenance": []
    },
    "kernelspec": {
      "name": "python3",
      "display_name": "Python 3"
    },
    "language_info": {
      "name": "python"
    }
  },
  "cells": [
    {
      "cell_type": "code",
      "source": [
        "#The function is for to create a call list where it filters same shift days with caller and the teams.\n",
        "def call_filter(year, month, day, hour, report, cases):\n",
        "  import pandas as pd\n",
        "  import numpy as np\n",
        "  import datetime\n",
        "\n",
        "  #Read the case research report\n",
        "  df_names = pd.read_excel(report)\n",
        "  #Notices File\n",
        "  df_cases = pd.read_excel(cases)\n",
        "\n",
        "  #Left only necessary columns\n",
        "  df_names = df_names[['Ekip No', 'KKM Protokol','Ekip Sorumlusu', 'Ekipteki Kişiler', 'İhbar/Çağrı Tarihi', 'İhbar/Çağrı  Saati']]\n",
        "  df_names['Tarih/Saat'] = df_names['İhbar/Çağrı Tarihi'] + df_names['İhbar/Çağrı  Saati']\n",
        "  df_cases.rename(columns={'Ekip Kodu': 'Ekip No'}, inplace=True)\n",
        "  merged_df = pd.merge(df_cases, df_names, on=['KKM Protokol', 'Ekip No'], how = 'inner')\n",
        "  merged_df.drop(columns = ['KKM Seri No', 'Adres', 'Vaka Yeri Açıklaması'], inplace = True)\n",
        "\n",
        "  # show only where merged_df['Tarih'] starting from year-month-day hour for 24 hours in every 4 days\n",
        "  start_date = datetime.datetime(year, month, day, hour)\n",
        "  end_date = start_date + datetime.timedelta(days=1)\n",
        "\n",
        "  filtered_df = merged_df[\n",
        "      (merged_df['Tarih'] >= start_date) & (merged_df['Tarih'] < end_date)\n",
        "  ]\n",
        "\n",
        "  for i in range(1, 8):\n",
        "    try:\n",
        "      start_date += datetime.timedelta(days=4)\n",
        "      end_date = start_date + datetime.timedelta(days=1)\n",
        "\n",
        "      temp_df = merged_df[\n",
        "          (merged_df['Tarih'] >= start_date) & (merged_df['Tarih'] < end_date)\n",
        "      ]\n",
        "      filtered_df = pd.concat([filtered_df, temp_df], ignore_index=True)\n",
        "    except:\n",
        "      pass\n",
        "      filtered_df = filtered_df.sort_values(by = ['Ekip Sorumlusu'])[['KKM Protokol', 'Ekip No', 'Tarih', 'Ekip Sorumlusu', 'Ekipteki Kişiler']]\n",
        "  filtered_df.to_excel('Call List.xlsx')\n",
        "\n",
        "#Add year-month-firstShiftDay, hour, reports, cases to the function parameters\n",
        "call_filter(2024, 5, 3, 8, '/content/reports.xlsx', '/content/EŞLEŞEN ONAYSIZ (6).xlsx')"
      ],
      "metadata": {
        "id": "Tn094bgIrsL0"
      },
      "execution_count": null,
      "outputs": []
    },
    {
      "cell_type": "code",
      "source": [],
      "metadata": {
        "id": "DndipOWOizCl"
      },
      "execution_count": null,
      "outputs": []
    }
  ]
}