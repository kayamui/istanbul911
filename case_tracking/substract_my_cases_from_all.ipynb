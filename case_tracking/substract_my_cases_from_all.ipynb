{
  "nbformat": 4,
  "nbformat_minor": 0,
  "metadata": {
    "colab": {
      "provenance": []
    },
    "kernelspec": {
      "name": "python3",
      "display_name": "Python 3"
    },
    "language_info": {
      "name": "python"
    }
  },
  "cells": [
    {
      "cell_type": "code",
      "source": [
        "import pandas as pd\n",
        "import numpy as np"
      ],
      "metadata": {
        "id": "GpuKPbvkfdGA"
      },
      "execution_count": null,
      "outputs": []
    },
    {
      "cell_type": "code",
      "source": [
        "#This function is for to extract external stations from the total stations to find internal(governmental) stations\n",
        "def clearData():\n",
        "  import pandas as pd\n",
        "\n",
        "  # Import all notices\n",
        "  df_big = pd.read_excel('/content/İhbar işlemleri (77).xls')\n",
        "  # Import external notices\n",
        "  df_small = pd.read_excel('/content/İhbar işlemleri (78).xls')\n",
        "\n",
        "  df_big[~df_big['Ekip Kodu'].isin(df_small['Ekip Kodu'])][['KKM Protokol', 'Ekip Kodu', 'Tarih']].sort_values(by = 'KKM Protokol').to_excel('Cases.xlsx')\n",
        "clearData()"
      ],
      "metadata": {
        "id": "1kJ8qnM3JR0J",
        "outputId": "852fd96b-8527-4577-aedd-8a468b37cb81",
        "colab": {
          "base_uri": "https://localhost:8080/"
        }
      },
      "execution_count": null,
      "outputs": [
        {
          "output_type": "stream",
          "name": "stderr",
          "text": [
            "/usr/local/lib/python3.10/dist-packages/openpyxl/styles/stylesheet.py:226: UserWarning: Workbook contains no default style, apply openpyxl's default\n",
            "  warn(\"Workbook contains no default style, apply openpyxl's default\")\n",
            "/usr/local/lib/python3.10/dist-packages/openpyxl/styles/stylesheet.py:226: UserWarning: Workbook contains no default style, apply openpyxl's default\n",
            "  warn(\"Workbook contains no default style, apply openpyxl's default\")\n"
          ]
        }
      ]
    },
    {
      "cell_type": "code",
      "source": [
        "#This function is to create a new list where my unclosed cases substracted from all\n",
        "def substract():\n",
        "\n",
        "  df_clearAllData = pd.read_excel('/content/Cases.xlsx')\n",
        "  df_substract = pd.read_excel('/content/Adsız 1.xlsx')\n",
        "\n",
        "  df_substract.set_index('KKM Protokol', inplace = True)\n",
        "  clearWithoutMine = df_clearAllData[~df_clearAllData['KKM Protokol'].isin(df_substract.index)]\n",
        "  clearWithoutMine.to_excel('New All Clear Cases.xlsx')\n",
        "substract()"
      ],
      "metadata": {
        "id": "33ROCrhUJoi0"
      },
      "execution_count": null,
      "outputs": []
    },
    {
      "cell_type": "code",
      "execution_count": null,
      "metadata": {
        "id": "DwyN7dtgeq-V"
      },
      "outputs": [],
      "source": []
    },
    {
      "cell_type": "code",
      "source": [
        "#df_clearData.rename(columns = {'Protokol':'KKM Protokol', 'EKİP KODU':'Ekip No', 'TARİH':'Tarih'}, inplace = True)"
      ],
      "metadata": {
        "id": "3vKnS2JadBE8"
      },
      "execution_count": null,
      "outputs": []
    },
    {
      "cell_type": "code",
      "source": [],
      "metadata": {
        "id": "Xi4ZU2E8fmYv"
      },
      "execution_count": null,
      "outputs": []
    },
    {
      "cell_type": "code",
      "source": [],
      "metadata": {
        "id": "xYLzRWJITBRi"
      },
      "execution_count": null,
      "outputs": []
    }
  ]
}